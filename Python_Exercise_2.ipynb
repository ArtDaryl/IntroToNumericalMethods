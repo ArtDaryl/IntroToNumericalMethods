{
  "nbformat": 4,
  "nbformat_minor": 0,
  "metadata": {
    "colab": {
      "name": "Python Exercise 2",
      "provenance": [],
      "authorship_tag": "ABX9TyNx8OZn20W5Rr9t4jRTwAkB",
      "include_colab_link": true
    },
    "kernelspec": {
      "name": "python3",
      "display_name": "Python 3"
    },
    "language_info": {
      "name": "python"
    }
  },
  "cells": [
    {
      "cell_type": "markdown",
      "metadata": {
        "id": "view-in-github",
        "colab_type": "text"
      },
      "source": [
        "<a href=\"https://colab.research.google.com/github/ArtDaryl/IntroToNumericalMethods/blob/main/Python_Exercise_2.ipynb\" target=\"_parent\"><img src=\"https://colab.research.google.com/assets/colab-badge.svg\" alt=\"Open In Colab\"/></a>"
      ]
    },
    {
      "cell_type": "markdown",
      "metadata": {
        "id": "5DnM2B5BensN"
      },
      "source": [
        "#Matrix and Its Operations\n"
      ]
    },
    {
      "cell_type": "markdown",
      "metadata": {
        "id": "OmU1Avj9eqiZ"
      },
      "source": [
        "#Python Exercise 2\n",
        "Test Content : Create a NumPy program that performs the operations of the given matrices:\n",
        "\n",
        "1.sum = A +B\n",
        "\n",
        "2.difference1 = B - A\n",
        "\n",
        "3.difference2 = A - B"
      ]
    },
    {
      "cell_type": "code",
      "metadata": {
        "id": "zao0wIVAekKB"
      },
      "source": [
        "import numpy as np\n",
        "a = np.array([[-5,0],[4,1]])\n",
        "b = np.array([[6,-3],[2,3]])"
      ],
      "execution_count": 4,
      "outputs": []
    },
    {
      "cell_type": "code",
      "metadata": {
        "colab": {
          "base_uri": "https://localhost:8080/"
        },
        "id": "xtQKeNRlgA0z",
        "outputId": "f6ede138-c8b5-411f-910a-3338b5386b38"
      },
      "source": [
        "print(a+b) #sum of A+B"
      ],
      "execution_count": 6,
      "outputs": [
        {
          "output_type": "stream",
          "name": "stdout",
          "text": [
            "[[ 1 -3]\n",
            " [ 6  4]]\n"
          ]
        }
      ]
    },
    {
      "cell_type": "code",
      "metadata": {
        "colab": {
          "base_uri": "https://localhost:8080/"
        },
        "id": "uwLquYc1fYAv",
        "outputId": "34141f04-4300-41c6-a539-a27c5ad22e55"
      },
      "source": [
        "print(b-a) #difference of b-a"
      ],
      "execution_count": 7,
      "outputs": [
        {
          "output_type": "stream",
          "name": "stdout",
          "text": [
            "[[11 -3]\n",
            " [-2  2]]\n"
          ]
        }
      ]
    },
    {
      "cell_type": "code",
      "metadata": {
        "colab": {
          "base_uri": "https://localhost:8080/"
        },
        "id": "sB5P6U8KffM6",
        "outputId": "d9b917ef-9a7b-4103-d833-e82e110c4e46"
      },
      "source": [
        "print(a-b) #difference of a-b"
      ],
      "execution_count": 8,
      "outputs": [
        {
          "output_type": "stream",
          "name": "stdout",
          "text": [
            "[[-11   3]\n",
            " [  2  -2]]\n"
          ]
        }
      ]
    }
  ]
}